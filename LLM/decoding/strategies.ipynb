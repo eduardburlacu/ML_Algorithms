{
 "cells": [
  {
   "cell_type": "markdown",
   "id": "834567f4",
   "metadata": {},
   "source": [
    "# Decoding Strategies with LLMs\n",
    "\n",
    "*Notebook based on*: https://huggingface.co/blog/mlabonne/decoding-strategies"
   ]
  },
  {
   "cell_type": "markdown",
   "id": "2e261b14",
   "metadata": {},
   "source": [
    "- tune important hyper-parameters like *temperature*, *num_beams*, *top_k*, and *top_p*."
   ]
  },
  {
   "cell_type": "markdown",
   "id": "81e5ba2e",
   "metadata": {},
   "source": [
    "## Install & Imports"
   ]
  },
  {
   "cell_type": "code",
   "execution_count": 59,
   "id": "55c5c16b",
   "metadata": {},
   "outputs": [
    {
     "name": "stdout",
     "output_type": "stream",
     "text": [
      "/opt/homebrew/opt/graphviz\n",
      "Collecting pygraphviz\n",
      "  Using cached pygraphviz-1.14.tar.gz (106 kB)\n",
      "  Installing build dependencies ... \u001b[?25ldone\n",
      "\u001b[?25h  Getting requirements to build wheel ... \u001b[?25ldone\n",
      "\u001b[?25h  Preparing metadata (pyproject.toml) ... \u001b[?25ldone\n",
      "\u001b[?25hBuilding wheels for collected packages: pygraphviz\n",
      "  Building wheel for pygraphviz (pyproject.toml) ... \u001b[?25lerror\n",
      "  \u001b[1;31merror\u001b[0m: \u001b[1msubprocess-exited-with-error\u001b[0m\n",
      "  \n",
      "  \u001b[31m×\u001b[0m \u001b[32mBuilding wheel for pygraphviz \u001b[0m\u001b[1;32m(\u001b[0m\u001b[32mpyproject.toml\u001b[0m\u001b[1;32m)\u001b[0m did not run successfully.\n",
      "  \u001b[31m│\u001b[0m exit code: \u001b[1;36m1\u001b[0m\n",
      "  \u001b[31m╰─>\u001b[0m \u001b[31m[100 lines of output]\u001b[0m\n",
      "  \u001b[31m   \u001b[0m /private/var/folders/3p/dy76shxx6y9c0frycpgpl4sw0000gn/T/pip-build-env-5_8gbagd/overlay/lib/python3.12/site-packages/setuptools/config/_apply_pyprojecttoml.py:82: SetuptoolsDeprecationWarning: `project.license` as a TOML table is deprecated\n",
      "  \u001b[31m   \u001b[0m !!\n",
      "  \u001b[31m   \u001b[0m \n",
      "  \u001b[31m   \u001b[0m         ********************************************************************************\n",
      "  \u001b[31m   \u001b[0m         Please use a simple string containing a SPDX expression for `project.license`. You can also use `project.license-files`. (Both options available on setuptools>=77.0.0).\n",
      "  \u001b[31m   \u001b[0m \n",
      "  \u001b[31m   \u001b[0m         By 2026-Feb-18, you need to update your project and remove deprecated calls\n",
      "  \u001b[31m   \u001b[0m         or your builds will no longer be supported.\n",
      "  \u001b[31m   \u001b[0m \n",
      "  \u001b[31m   \u001b[0m         See https://packaging.python.org/en/latest/guides/writing-pyproject-toml/#license for details.\n",
      "  \u001b[31m   \u001b[0m         ********************************************************************************\n",
      "  \u001b[31m   \u001b[0m \n",
      "  \u001b[31m   \u001b[0m !!\n",
      "  \u001b[31m   \u001b[0m   corresp(dist, value, root_dir)\n",
      "  \u001b[31m   \u001b[0m /private/var/folders/3p/dy76shxx6y9c0frycpgpl4sw0000gn/T/pip-build-env-5_8gbagd/overlay/lib/python3.12/site-packages/setuptools/config/_apply_pyprojecttoml.py:61: SetuptoolsDeprecationWarning: License classifiers are deprecated.\n",
      "  \u001b[31m   \u001b[0m !!\n",
      "  \u001b[31m   \u001b[0m \n",
      "  \u001b[31m   \u001b[0m         ********************************************************************************\n",
      "  \u001b[31m   \u001b[0m         Please consider removing the following classifiers in favor of a SPDX license expression:\n",
      "  \u001b[31m   \u001b[0m \n",
      "  \u001b[31m   \u001b[0m         License :: OSI Approved :: BSD License\n",
      "  \u001b[31m   \u001b[0m \n",
      "  \u001b[31m   \u001b[0m         See https://packaging.python.org/en/latest/guides/writing-pyproject-toml/#license for details.\n",
      "  \u001b[31m   \u001b[0m         ********************************************************************************\n",
      "  \u001b[31m   \u001b[0m \n",
      "  \u001b[31m   \u001b[0m !!\n",
      "  \u001b[31m   \u001b[0m   dist._finalize_license_expression()\n",
      "  \u001b[31m   \u001b[0m /private/var/folders/3p/dy76shxx6y9c0frycpgpl4sw0000gn/T/pip-build-env-5_8gbagd/overlay/lib/python3.12/site-packages/setuptools/dist.py:759: SetuptoolsDeprecationWarning: License classifiers are deprecated.\n",
      "  \u001b[31m   \u001b[0m !!\n",
      "  \u001b[31m   \u001b[0m \n",
      "  \u001b[31m   \u001b[0m         ********************************************************************************\n",
      "  \u001b[31m   \u001b[0m         Please consider removing the following classifiers in favor of a SPDX license expression:\n",
      "  \u001b[31m   \u001b[0m \n",
      "  \u001b[31m   \u001b[0m         License :: OSI Approved :: BSD License\n",
      "  \u001b[31m   \u001b[0m \n",
      "  \u001b[31m   \u001b[0m         See https://packaging.python.org/en/latest/guides/writing-pyproject-toml/#license for details.\n",
      "  \u001b[31m   \u001b[0m         ********************************************************************************\n",
      "  \u001b[31m   \u001b[0m \n",
      "  \u001b[31m   \u001b[0m !!\n",
      "  \u001b[31m   \u001b[0m   self._finalize_license_expression()\n",
      "  \u001b[31m   \u001b[0m running bdist_wheel\n",
      "  \u001b[31m   \u001b[0m running build\n",
      "  \u001b[31m   \u001b[0m running build_py\n",
      "  \u001b[31m   \u001b[0m creating build/lib.macosx-11.1-arm64-cpython-312/pygraphviz\n",
      "  \u001b[31m   \u001b[0m copying pygraphviz/scraper.py -> build/lib.macosx-11.1-arm64-cpython-312/pygraphviz\n",
      "  \u001b[31m   \u001b[0m copying pygraphviz/graphviz.py -> build/lib.macosx-11.1-arm64-cpython-312/pygraphviz\n",
      "  \u001b[31m   \u001b[0m copying pygraphviz/__init__.py -> build/lib.macosx-11.1-arm64-cpython-312/pygraphviz\n",
      "  \u001b[31m   \u001b[0m copying pygraphviz/agraph.py -> build/lib.macosx-11.1-arm64-cpython-312/pygraphviz\n",
      "  \u001b[31m   \u001b[0m copying pygraphviz/testing.py -> build/lib.macosx-11.1-arm64-cpython-312/pygraphviz\n",
      "  \u001b[31m   \u001b[0m creating build/lib.macosx-11.1-arm64-cpython-312/pygraphviz/tests\n",
      "  \u001b[31m   \u001b[0m copying pygraphviz/tests/test_unicode.py -> build/lib.macosx-11.1-arm64-cpython-312/pygraphviz/tests\n",
      "  \u001b[31m   \u001b[0m copying pygraphviz/tests/test_scraper.py -> build/lib.macosx-11.1-arm64-cpython-312/pygraphviz/tests\n",
      "  \u001b[31m   \u001b[0m copying pygraphviz/tests/test_readwrite.py -> build/lib.macosx-11.1-arm64-cpython-312/pygraphviz/tests\n",
      "  \u001b[31m   \u001b[0m copying pygraphviz/tests/test_string.py -> build/lib.macosx-11.1-arm64-cpython-312/pygraphviz/tests\n",
      "  \u001b[31m   \u001b[0m copying pygraphviz/tests/__init__.py -> build/lib.macosx-11.1-arm64-cpython-312/pygraphviz/tests\n",
      "  \u001b[31m   \u001b[0m copying pygraphviz/tests/test_html.py -> build/lib.macosx-11.1-arm64-cpython-312/pygraphviz/tests\n",
      "  \u001b[31m   \u001b[0m copying pygraphviz/tests/test_node_attributes.py -> build/lib.macosx-11.1-arm64-cpython-312/pygraphviz/tests\n",
      "  \u001b[31m   \u001b[0m copying pygraphviz/tests/test_drawing.py -> build/lib.macosx-11.1-arm64-cpython-312/pygraphviz/tests\n",
      "  \u001b[31m   \u001b[0m copying pygraphviz/tests/test_repr_mimebundle.py -> build/lib.macosx-11.1-arm64-cpython-312/pygraphviz/tests\n",
      "  \u001b[31m   \u001b[0m copying pygraphviz/tests/test_subgraph.py -> build/lib.macosx-11.1-arm64-cpython-312/pygraphviz/tests\n",
      "  \u001b[31m   \u001b[0m copying pygraphviz/tests/test_close.py -> build/lib.macosx-11.1-arm64-cpython-312/pygraphviz/tests\n",
      "  \u001b[31m   \u001b[0m copying pygraphviz/tests/test_edge_attributes.py -> build/lib.macosx-11.1-arm64-cpython-312/pygraphviz/tests\n",
      "  \u001b[31m   \u001b[0m copying pygraphviz/tests/test_clear.py -> build/lib.macosx-11.1-arm64-cpython-312/pygraphviz/tests\n",
      "  \u001b[31m   \u001b[0m copying pygraphviz/tests/test_layout.py -> build/lib.macosx-11.1-arm64-cpython-312/pygraphviz/tests\n",
      "  \u001b[31m   \u001b[0m copying pygraphviz/tests/test_attribute_defaults.py -> build/lib.macosx-11.1-arm64-cpython-312/pygraphviz/tests\n",
      "  \u001b[31m   \u001b[0m copying pygraphviz/tests/test_graph.py -> build/lib.macosx-11.1-arm64-cpython-312/pygraphviz/tests\n",
      "  \u001b[31m   \u001b[0m running egg_info\n",
      "  \u001b[31m   \u001b[0m writing pygraphviz.egg-info/PKG-INFO\n",
      "  \u001b[31m   \u001b[0m writing dependency_links to pygraphviz.egg-info/dependency_links.txt\n",
      "  \u001b[31m   \u001b[0m writing top-level names to pygraphviz.egg-info/top_level.txt\n",
      "  \u001b[31m   \u001b[0m reading manifest file 'pygraphviz.egg-info/SOURCES.txt'\n",
      "  \u001b[31m   \u001b[0m reading manifest template 'MANIFEST.in'\n",
      "  \u001b[31m   \u001b[0m warning: no files found matching '*.swg'\n",
      "  \u001b[31m   \u001b[0m warning: no files found matching '*.png' under directory 'doc'\n",
      "  \u001b[31m   \u001b[0m warning: no files found matching '*.html' under directory 'doc'\n",
      "  \u001b[31m   \u001b[0m warning: no files found matching '*.txt' under directory 'doc'\n",
      "  \u001b[31m   \u001b[0m warning: no files found matching '*.css' under directory 'doc'\n",
      "  \u001b[31m   \u001b[0m warning: no previously-included files matching '*~' found anywhere in distribution\n",
      "  \u001b[31m   \u001b[0m warning: no previously-included files matching '*.pyc' found anywhere in distribution\n",
      "  \u001b[31m   \u001b[0m warning: no previously-included files matching '.svn' found anywhere in distribution\n",
      "  \u001b[31m   \u001b[0m no previously-included directories found matching 'doc/build'\n",
      "  \u001b[31m   \u001b[0m adding license file 'LICENSE'\n",
      "  \u001b[31m   \u001b[0m writing manifest file 'pygraphviz.egg-info/SOURCES.txt'\n",
      "  \u001b[31m   \u001b[0m copying pygraphviz/graphviz.i -> build/lib.macosx-11.1-arm64-cpython-312/pygraphviz\n",
      "  \u001b[31m   \u001b[0m copying pygraphviz/graphviz_wrap.c -> build/lib.macosx-11.1-arm64-cpython-312/pygraphviz\n",
      "  \u001b[31m   \u001b[0m running build_ext\n",
      "  \u001b[31m   \u001b[0m building 'pygraphviz._graphviz' extension\n",
      "  \u001b[31m   \u001b[0m creating build/temp.macosx-11.1-arm64-cpython-312/pygraphviz\n",
      "  \u001b[31m   \u001b[0m clang -fno-strict-overflow -Wsign-compare -Wunreachable-code -DNDEBUG -O2 -Wall -fPIC -O2 -isystem /Users/edibrlc/miniconda3/envs/llm/include -arch arm64 -fPIC -O2 -isystem /Users/edibrlc/miniconda3/envs/llm/include -arch arm64 -DSWIG_PYTHON_STRICT_BYTE_CHAR -I/Users/edibrlc/miniconda3/envs/llm/include/python3.12 -c pygraphviz/graphviz_wrap.c -o build/temp.macosx-11.1-arm64-cpython-312/pygraphviz/graphviz_wrap.o\n",
      "  \u001b[31m   \u001b[0m pygraphviz/graphviz_wrap.c:9:9: warning: 'SWIG_PYTHON_STRICT_BYTE_CHAR' macro redefined [-Wmacro-redefined]\n",
      "  \u001b[31m   \u001b[0m     9 | #define SWIG_PYTHON_STRICT_BYTE_CHAR\n",
      "  \u001b[31m   \u001b[0m       |         ^\n",
      "  \u001b[31m   \u001b[0m <command line>:2:9: note: previous definition is here\n",
      "  \u001b[31m   \u001b[0m     2 | #define SWIG_PYTHON_STRICT_BYTE_CHAR 1\n",
      "  \u001b[31m   \u001b[0m       |         ^\n",
      "  \u001b[31m   \u001b[0m pygraphviz/graphviz_wrap.c:3023:10: fatal error: 'graphviz/cgraph.h' file not found\n",
      "  \u001b[31m   \u001b[0m  3023 | #include \"graphviz/cgraph.h\"\n",
      "  \u001b[31m   \u001b[0m       |          ^~~~~~~~~~~~~~~~~~~\n",
      "  \u001b[31m   \u001b[0m 1 warning and 1 error generated.\n",
      "  \u001b[31m   \u001b[0m error: command '/usr/bin/clang' failed with exit code 1\n",
      "  \u001b[31m   \u001b[0m \u001b[31m[end of output]\u001b[0m\n",
      "  \n",
      "  \u001b[1;35mnote\u001b[0m: This error originates from a subprocess, and is likely not a problem with pip.\n",
      "\u001b[?25h\u001b[31m  ERROR: Failed building wheel for pygraphviz\u001b[0m\u001b[31m\n",
      "\u001b[0mFailed to build pygraphviz\n",
      "\u001b[1;31merror\u001b[0m: \u001b[1mfailed-wheel-build-for-install\u001b[0m\n",
      "\n",
      "\u001b[31m×\u001b[0m Failed to build installable wheels for some pyproject.toml based projects\n",
      "\u001b[31m╰─>\u001b[0m pygraphviz\n"
     ]
    }
   ],
   "source": [
    "#! brew install graphviz\n",
    "! brew --prefix graphviz\n",
    "! export PATH=$(brew --prefix graphviz):$PATH\n",
    "! export CFLAGS=\"-I $(brew --prefix graphviz)/include\"\n",
    "! export LDFLAGS=\"-L $(brew --prefix graphviz)/lib\"\n",
    "! pip install pygraphviz"
   ]
  },
  {
   "cell_type": "code",
   "execution_count": null,
   "id": "715037e9",
   "metadata": {},
   "outputs": [],
   "source": [
    "! pip install nltk torch transformers pygraphviz tqdm"
   ]
  },
  {
   "cell_type": "code",
   "execution_count": 49,
   "id": "381252bb",
   "metadata": {},
   "outputs": [
    {
     "name": "stdout",
     "output_type": "stream",
     "text": [
      "cpu\n"
     ]
    }
   ],
   "source": [
    "import matplotlib.pyplot as plt\n",
    "import networkx as nx\n",
    "import numpy as np\n",
    "import time\n",
    "import torch\n",
    "\n",
    "if torch.cuda.is_available():\n",
    "    device = torch.device(\"cuda\")\n",
    "else:\n",
    "    device = torch.device(\"cpu\")\n",
    "print(device)"
   ]
  },
  {
   "cell_type": "code",
   "execution_count": 39,
   "id": "e47397dc",
   "metadata": {},
   "outputs": [
    {
     "data": {
      "text/plain": [
       "GPT2LMHeadModel(\n",
       "  (transformer): GPT2Model(\n",
       "    (wte): Embedding(50257, 768)\n",
       "    (wpe): Embedding(1024, 768)\n",
       "    (drop): Dropout(p=0.1, inplace=False)\n",
       "    (h): ModuleList(\n",
       "      (0-11): 12 x GPT2Block(\n",
       "        (ln_1): LayerNorm((768,), eps=1e-05, elementwise_affine=True)\n",
       "        (attn): GPT2Attention(\n",
       "          (c_attn): Conv1D(nf=2304, nx=768)\n",
       "          (c_proj): Conv1D(nf=768, nx=768)\n",
       "          (attn_dropout): Dropout(p=0.1, inplace=False)\n",
       "          (resid_dropout): Dropout(p=0.1, inplace=False)\n",
       "        )\n",
       "        (ln_2): LayerNorm((768,), eps=1e-05, elementwise_affine=True)\n",
       "        (mlp): GPT2MLP(\n",
       "          (c_fc): Conv1D(nf=3072, nx=768)\n",
       "          (c_proj): Conv1D(nf=768, nx=3072)\n",
       "          (act): NewGELUActivation()\n",
       "          (dropout): Dropout(p=0.1, inplace=False)\n",
       "        )\n",
       "      )\n",
       "    )\n",
       "    (ln_f): LayerNorm((768,), eps=1e-05, elementwise_affine=True)\n",
       "  )\n",
       "  (lm_head): Linear(in_features=768, out_features=50257, bias=False)\n",
       ")"
      ]
     },
     "execution_count": 39,
     "metadata": {},
     "output_type": "execute_result"
    }
   ],
   "source": [
    "from transformers import GPT2LMHeadModel, GPT2Tokenizer\n",
    "\n",
    "model_type = \"gpt2\"\n",
    "model = GPT2LMHeadModel.from_pretrained(model_type)\n",
    "tokenizer = GPT2Tokenizer.from_pretrained(model_type)\n",
    "model.eval()"
   ]
  },
  {
   "cell_type": "code",
   "execution_count": 40,
   "id": "f47944e5",
   "metadata": {},
   "outputs": [
    {
     "data": {
      "text/plain": [
       "tensor([[  40,  423,  257, 4320]])"
      ]
     },
     "execution_count": 40,
     "metadata": {},
     "output_type": "execute_result"
    }
   ],
   "source": [
    "text = \"I have a dream\"\n",
    "input_ids = tokenizer.encode(text, return_tensors=\"pt\").to(device)\n",
    "input_ids"
   ]
  },
  {
   "cell_type": "code",
   "execution_count": 41,
   "id": "2de9847f",
   "metadata": {},
   "outputs": [
    {
     "name": "stderr",
     "output_type": "stream",
     "text": [
      "The attention mask and the pad token id were not set. As a consequence, you may observe unexpected behavior. Please pass your input's `attention_mask` to obtain reliable results.\n",
      "Setting `pad_token_id` to `eos_token_id`:50256 for open-end generation.\n"
     ]
    },
    {
     "data": {
      "text/plain": [
       "'I have a dream of being a doctor.'"
      ]
     },
     "execution_count": 41,
     "metadata": {},
     "output_type": "execute_result"
    }
   ],
   "source": [
    "outputs = model.generate(input_ids, max_length = len(input_ids.squeeze())+5)\n",
    "generated_text = tokenizer.decode(outputs[0], skip_special_tokens=True)\n",
    "generated_text"
   ]
  },
  {
   "cell_type": "markdown",
   "id": "00aa79c7",
   "metadata": {},
   "source": [
    "# Samplers"
   ]
  },
  {
   "cell_type": "code",
   "execution_count": 65,
   "id": "4174c848",
   "metadata": {},
   "outputs": [],
   "source": [
    "def greedy_sampling(logits: torch.Tensor, beams: int) -> torch.Tensor:\n",
    "    return torch.topk(logits, beams, dim=-1).indices\n",
    "\n",
    "def top_k_sampling(logits: torch.Tensor, temperature: float, top_k: int, beams: int):\n",
    "    assert top_k >= 1\n",
    "    assert beams <= top_k\n",
    "\n",
    "    indices_to_remove = logits < torch.topk(logits, top_k)[0][..., -1, None]\n",
    "    new_logits = torch.clone(logits)\n",
    "    new_logits[indices_to_remove] = float('-inf')\n",
    "\n",
    "    # Convert logits to probabilities\n",
    "    probabilities = torch.nn.functional.softmax(new_logits / temperature, dim=-1)\n",
    "\n",
    "    # Sample n tokens from the resulting distribution\n",
    "    next_tokens = torch.multinomial(probabilities, beams)\n",
    "\n",
    "    return next_tokens\n",
    "\n",
    "def nucleus_sampling(logits: torch.Tensor, temperature: float, p: float, beams: int):\n",
    "    assert 0 < p <= 1\n",
    "\n",
    "    # Sort the probabilities in descending order and compute cumulative probabilities\n",
    "    sorted_logits, sorted_indices = torch.sort(logits, descending=True)\n",
    "    probabilities = torch.nn.functional.softmax(sorted_logits / temperature, dim=-1)\n",
    "    cumulative_probabilities = torch.cumsum(probabilities, dim=-1)\n",
    "\n",
    "    # Create a mask for probabilities that are in the top-p\n",
    "    mask = cumulative_probabilities < p\n",
    "\n",
    "    # If there's not n index where cumulative_probabilities < p, use the top n tokens instead\n",
    "    if mask.sum() > beams:\n",
    "        top_p_index_to_keep = torch.where(mask)[0][-1].detach().cpu().tolist()\n",
    "    else:\n",
    "        top_p_index_to_keep = beams\n",
    "\n",
    "    # Only keep top-p indices\n",
    "    indices_to_remove = sorted_indices[top_p_index_to_keep:]\n",
    "    sorted_logits[indices_to_remove] = float('-inf')\n",
    "\n",
    "    # Sample n tokens from the resulting distribution\n",
    "    probabilities = torch.nn.functional.softmax(sorted_logits / temperature, dim=-1)\n",
    "    next_tokens = torch.multinomial(probabilities, beams)\n",
    "\n",
    "    return next_tokens\n"
   ]
  },
  {
   "cell_type": "markdown",
   "id": "323a01c9",
   "metadata": {},
   "source": [
    "## Greedy"
   ]
  },
  {
   "cell_type": "code",
   "execution_count": 45,
   "id": "f64898e5",
   "metadata": {},
   "outputs": [],
   "source": [
    "def log_prob(logits:torch.Tensor, token_id:int)->float:\n",
    "    log_probs = torch.nn.functional.log_softmax(logits, dim=0)\n",
    "    return log_probs[token_id].item()\n",
    "\n",
    "# Parameters\n",
    "length = 5\n",
    "beams = 1\n",
    "\n",
    "# Create a balanced tree with height 'length'\n",
    "graph = nx.balanced_tree(1, length, create_using=nx.DiGraph())\n",
    "\n",
    "def greedy_search(input_ids, node, length=5):\n",
    "    if length == 0:\n",
    "        return input_ids\n",
    "\n",
    "    outputs = model(input_ids)\n",
    "    predictions = outputs.logits\n",
    "\n",
    "    # The predicted next sub-word (here we use top-k search)\n",
    "    logits = predictions[0, -1, :]\n",
    "    token_id = torch.argmax(logits).unsqueeze(0)\n",
    "\n",
    "    # Compute the score of the predicted token\n",
    "    token_score = log_prob(logits, token_id)\n",
    "\n",
    "    # Add the predicted token to the list of input ids\n",
    "    new_input_ids = torch.cat([input_ids, token_id.unsqueeze(0)], dim=-1)\n",
    "\n",
    "    # Add node and edge to graph\n",
    "    next_token = tokenizer.decode(token_id, skip_special_tokens=True)\n",
    "    current_node = list(graph.successors(node))[0]\n",
    "    graph.nodes[current_node]['tokenscore'] = np.exp(token_score) * 100\n",
    "    graph.nodes[current_node]['token'] = next_token + f\"_{length}\"\n",
    "\n",
    "    # Recursive call\n",
    "    input_ids = greedy_search(new_input_ids, current_node, length-1)\n",
    "    \n",
    "    return input_ids\n"
   ]
  },
  {
   "cell_type": "code",
   "execution_count": 46,
   "id": "bc39f74f",
   "metadata": {},
   "outputs": [],
   "source": [
    "for node in graph.nodes:\n",
    "    graph.nodes[node]['tokenscore'] = 100\n",
    "    graph.nodes[node]['token'] = text"
   ]
  },
  {
   "cell_type": "code",
   "execution_count": 47,
   "id": "5ca035b4",
   "metadata": {},
   "outputs": [
    {
     "name": "stdout",
     "output_type": "stream",
     "text": [
      "Generated text: I have a dream of being a doctor.\n"
     ]
    }
   ],
   "source": [
    "# Start generating text\n",
    "output_ids = greedy_search(input_ids, 0, length=length)\n",
    "output = tokenizer.decode(output_ids.squeeze().tolist(), skip_special_tokens=True)\n",
    "print(f\"Generated text: {output}\")"
   ]
  },
  {
   "cell_type": "code",
   "execution_count": 50,
   "id": "4f6fcc37",
   "metadata": {},
   "outputs": [
    {
     "ename": "ImportError",
     "evalue": "requires pygraphviz http://pygraphviz.github.io/",
     "output_type": "error",
     "traceback": [
      "\u001b[31m---------------------------------------------------------------------------\u001b[39m",
      "\u001b[31mModuleNotFoundError\u001b[39m                       Traceback (most recent call last)",
      "\u001b[36mFile \u001b[39m\u001b[32m~/miniconda3/envs/llm/lib/python3.12/site-packages/networkx/drawing/nx_agraph.py:300\u001b[39m, in \u001b[36mpygraphviz_layout\u001b[39m\u001b[34m(G, prog, root, args)\u001b[39m\n\u001b[32m    299\u001b[39m \u001b[38;5;28;01mtry\u001b[39;00m:\n\u001b[32m--> \u001b[39m\u001b[32m300\u001b[39m     \u001b[38;5;28;01mimport\u001b[39;00m\u001b[38;5;250m \u001b[39m\u001b[34;01mpygraphviz\u001b[39;00m\n\u001b[32m    301\u001b[39m \u001b[38;5;28;01mexcept\u001b[39;00m \u001b[38;5;167;01mImportError\u001b[39;00m \u001b[38;5;28;01mas\u001b[39;00m err:\n",
      "\u001b[31mModuleNotFoundError\u001b[39m: No module named 'pygraphviz'",
      "\nThe above exception was the direct cause of the following exception:\n",
      "\u001b[31mImportError\u001b[39m                               Traceback (most recent call last)",
      "\u001b[36mCell\u001b[39m\u001b[36m \u001b[39m\u001b[32mIn[50]\u001b[39m\u001b[32m, line 46\u001b[39m\n\u001b[32m     43\u001b[39m     plt.show()\n\u001b[32m     45\u001b[39m \u001b[38;5;66;03m# Plot graph\u001b[39;00m\n\u001b[32m---> \u001b[39m\u001b[32m46\u001b[39m \u001b[43mplot_graph\u001b[49m\u001b[43m(\u001b[49m\u001b[43mgraph\u001b[49m\u001b[43m,\u001b[49m\u001b[43m \u001b[49m\u001b[43mlength\u001b[49m\u001b[43m,\u001b[49m\u001b[43m \u001b[49m\u001b[32;43m1.5\u001b[39;49m\u001b[43m,\u001b[49m\u001b[43m \u001b[49m\u001b[33;43m'\u001b[39;49m\u001b[33;43mtoken\u001b[39;49m\u001b[33;43m'\u001b[39;49m\u001b[43m)\u001b[49m\n",
      "\u001b[36mCell\u001b[39m\u001b[36m \u001b[39m\u001b[32mIn[50]\u001b[39m\u001b[32m, line 9\u001b[39m, in \u001b[36mplot_graph\u001b[39m\u001b[34m(graph, length, beams, score)\u001b[39m\n\u001b[32m      6\u001b[39m fig, ax = plt.subplots(figsize=(\u001b[32m3\u001b[39m+\u001b[32m1.2\u001b[39m*beams**length, \u001b[38;5;28mmax\u001b[39m(\u001b[32m5\u001b[39m, \u001b[32m2\u001b[39m+length)), dpi=\u001b[32m300\u001b[39m, facecolor=\u001b[33m'\u001b[39m\u001b[33mwhite\u001b[39m\u001b[33m'\u001b[39m)\n\u001b[32m      8\u001b[39m \u001b[38;5;66;03m# Create positions for each node\u001b[39;00m\n\u001b[32m----> \u001b[39m\u001b[32m9\u001b[39m pos = \u001b[43mnx\u001b[49m\u001b[43m.\u001b[49m\u001b[43mnx_agraph\u001b[49m\u001b[43m.\u001b[49m\u001b[43mgraphviz_layout\u001b[49m\u001b[43m(\u001b[49m\u001b[43mgraph\u001b[49m\u001b[43m,\u001b[49m\u001b[43m \u001b[49m\u001b[43mprog\u001b[49m\u001b[43m=\u001b[49m\u001b[33;43m\"\u001b[39;49m\u001b[33;43mdot\u001b[39;49m\u001b[33;43m\"\u001b[39;49m\u001b[43m)\u001b[49m\n\u001b[32m     11\u001b[39m \u001b[38;5;66;03m# Normalize the colors along the range of token scores\u001b[39;00m\n\u001b[32m     12\u001b[39m \u001b[38;5;28;01mif\u001b[39;00m score == \u001b[33m'\u001b[39m\u001b[33mtoken\u001b[39m\u001b[33m'\u001b[39m:\n",
      "\u001b[36mFile \u001b[39m\u001b[32m~/miniconda3/envs/llm/lib/python3.12/site-packages/networkx/drawing/nx_agraph.py:256\u001b[39m, in \u001b[36mgraphviz_layout\u001b[39m\u001b[34m(G, prog, root, args)\u001b[39m\n\u001b[32m    225\u001b[39m \u001b[38;5;28;01mdef\u001b[39;00m\u001b[38;5;250m \u001b[39m\u001b[34mgraphviz_layout\u001b[39m(G, prog=\u001b[33m\"\u001b[39m\u001b[33mneato\u001b[39m\u001b[33m\"\u001b[39m, root=\u001b[38;5;28;01mNone\u001b[39;00m, args=\u001b[33m\"\u001b[39m\u001b[33m\"\u001b[39m):\n\u001b[32m    226\u001b[39m \u001b[38;5;250m    \u001b[39m\u001b[33;03m\"\"\"Create node positions for G using Graphviz.\u001b[39;00m\n\u001b[32m    227\u001b[39m \n\u001b[32m    228\u001b[39m \u001b[33;03m    Parameters\u001b[39;00m\n\u001b[32m   (...)\u001b[39m\u001b[32m    254\u001b[39m \u001b[33;03m    see https://gitlab.com/graphviz/graphviz/-/issues/1767 for more info.\u001b[39;00m\n\u001b[32m    255\u001b[39m \u001b[33;03m    \"\"\"\u001b[39;00m\n\u001b[32m--> \u001b[39m\u001b[32m256\u001b[39m     \u001b[38;5;28;01mreturn\u001b[39;00m \u001b[43mpygraphviz_layout\u001b[49m\u001b[43m(\u001b[49m\u001b[43mG\u001b[49m\u001b[43m,\u001b[49m\u001b[43m \u001b[49m\u001b[43mprog\u001b[49m\u001b[43m=\u001b[49m\u001b[43mprog\u001b[49m\u001b[43m,\u001b[49m\u001b[43m \u001b[49m\u001b[43mroot\u001b[49m\u001b[43m=\u001b[49m\u001b[43mroot\u001b[49m\u001b[43m,\u001b[49m\u001b[43m \u001b[49m\u001b[43margs\u001b[49m\u001b[43m=\u001b[49m\u001b[43margs\u001b[49m\u001b[43m)\u001b[49m\n",
      "\u001b[36mFile \u001b[39m\u001b[32m~/miniconda3/envs/llm/lib/python3.12/site-packages/networkx/drawing/nx_agraph.py:302\u001b[39m, in \u001b[36mpygraphviz_layout\u001b[39m\u001b[34m(G, prog, root, args)\u001b[39m\n\u001b[32m    300\u001b[39m     \u001b[38;5;28;01mimport\u001b[39;00m\u001b[38;5;250m \u001b[39m\u001b[34;01mpygraphviz\u001b[39;00m\n\u001b[32m    301\u001b[39m \u001b[38;5;28;01mexcept\u001b[39;00m \u001b[38;5;167;01mImportError\u001b[39;00m \u001b[38;5;28;01mas\u001b[39;00m err:\n\u001b[32m--> \u001b[39m\u001b[32m302\u001b[39m     \u001b[38;5;28;01mraise\u001b[39;00m \u001b[38;5;167;01mImportError\u001b[39;00m(\u001b[33m\"\u001b[39m\u001b[33mrequires pygraphviz http://pygraphviz.github.io/\u001b[39m\u001b[33m\"\u001b[39m) \u001b[38;5;28;01mfrom\u001b[39;00m\u001b[38;5;250m \u001b[39m\u001b[34;01merr\u001b[39;00m\n\u001b[32m    303\u001b[39m \u001b[38;5;28;01mif\u001b[39;00m root \u001b[38;5;129;01mis\u001b[39;00m \u001b[38;5;129;01mnot\u001b[39;00m \u001b[38;5;28;01mNone\u001b[39;00m:\n\u001b[32m    304\u001b[39m     args += \u001b[33mf\u001b[39m\u001b[33m\"\u001b[39m\u001b[33m-Groot=\u001b[39m\u001b[38;5;132;01m{\u001b[39;00mroot\u001b[38;5;132;01m}\u001b[39;00m\u001b[33m\"\u001b[39m\n",
      "\u001b[31mImportError\u001b[39m: requires pygraphviz http://pygraphviz.github.io/"
     ]
    },
    {
     "data": {
      "image/png": "[encoded data removed]",
      "text/plain": [
       "<Figure size 3633.75x2100 with 1 Axes>"
      ]
     },
     "metadata": {},
     "output_type": "display_data"
    }
   ],
   "source": [
    "import matplotlib.colors as mcolors\n",
    "from matplotlib.colors import LinearSegmentedColormap\n",
    "\n",
    "\n",
    "def plot_graph(graph, length, beams, score):\n",
    "    fig, ax = plt.subplots(figsize=(3+1.2*beams**length, max(5, 2+length)), dpi=300, facecolor='white')\n",
    "\n",
    "    # Create positions for each node\n",
    "    pos = nx.nx_agraph.graphviz_layout(graph, prog=\"dot\")\n",
    "\n",
    "    # Normalize the colors along the range of token scores\n",
    "    if score == 'token':\n",
    "        scores = [data['tokenscore'] for _, data in graph.nodes(data=True) if data['token'] is not None]\n",
    "    elif score == 'sequence':\n",
    "        scores = [data['sequencescore'] for _, data in graph.nodes(data=True) if data['token'] is not None]\n",
    "    vmin = min(scores)\n",
    "    vmax = max(scores)\n",
    "    norm = mcolors.Normalize(vmin=vmin, vmax=vmax)\n",
    "    cmap = LinearSegmentedColormap.from_list('rg', [\"r\", \"y\", \"g\"], N=256) \n",
    "\n",
    "    # Draw the nodes\n",
    "    nx.draw_networkx_nodes(graph, pos, node_size=2000, node_shape='o', alpha=1, linewidths=4, \n",
    "                          node_color=scores, cmap=cmap)\n",
    "\n",
    "    # Draw the edges\n",
    "    nx.draw_networkx_edges(graph, pos)\n",
    "\n",
    "    # Draw the labels\n",
    "    if score == 'token':\n",
    "        labels = {node: data['token'].split('_')[0] + f\"\\n{data['tokenscore']:.2f}%\" for node, data in graph.nodes(data=True) if data['token'] is not None}\n",
    "    elif score == 'sequence':\n",
    "        labels = {node: data['token'].split('_')[0] + f\"\\n{data['sequencescore']:.2f}\" for node, data in graph.nodes(data=True) if data['token'] is not None}\n",
    "    nx.draw_networkx_labels(graph, pos, labels=labels, font_size=10)\n",
    "    plt.box(False)\n",
    "\n",
    "    # Add a colorbar\n",
    "    sm = plt.cm.ScalarMappable(cmap=cmap, norm=norm)\n",
    "    sm.set_array([])\n",
    "    if score == 'token':\n",
    "        fig.colorbar(sm, ax=ax, orientation='vertical', pad=0, label='Token probability (%)')\n",
    "    elif score == 'sequence':\n",
    "        fig.colorbar(sm, ax=ax, orientation='vertical', pad=0, label='Sequence score')\n",
    "    plt.show()\n",
    "\n",
    "# Plot graph\n",
    "plot_graph(graph, length, 1.5, 'token')"
   ]
  },
  {
   "cell_type": "markdown",
   "id": "8b4e2e44",
   "metadata": {},
   "source": [
    "## Beam Search\n",
    "\n",
    "Unlike greedy search, which only considers the next most probable token, beam search takes into account the $n$ most likely tokens, where $n$ represents the number of beams. This procedure is repeated until a predefined maximum length is reached or an end-of-sequence token appears. At this point, the sequence (or \"beam\") with the highest overall score is chosen as the output."
   ]
  },
  {
   "cell_type": "code",
   "execution_count": 64,
   "id": "b0b21379",
   "metadata": {},
   "outputs": [],
   "source": [
    "def beam_search(input_ids, length, beams, sampling, temperature=0.1):\n",
    "    if length == 0:\n",
    "        return None\n",
    "\n",
    "    outputs = model(input_ids)\n",
    "    predictions = outputs.logits\n",
    "\n",
    "    # Get the predicted next sub-word (here we use top-k search)\n",
    "    logits = predictions[0, -1, :]\n",
    "\n",
    "    if sampling == 'greedy':\n",
    "        top_token_ids = greedy_sampling(logits, beams)\n",
    "    elif sampling == 'top_k':\n",
    "        top_token_ids = top_k_sampling(logits, temperature, 20, beams)\n",
    "    elif sampling == 'nucleus':\n",
    "        top_token_ids = nucleus_sampling(logits, temperature, 0.5, beams)\n",
    "\n",
    "    for j, token_id in enumerate(top_token_ids):\n",
    "\n",
    "        # Compute the score of the predicted token\n",
    "        token_score = log_prob(logits, token_id)\n",
    "        cumulative_score = graph.nodes[node]['cumscore'] + token_score\n",
    "\n",
    "        # Add the predicted token to the list of input ids\n",
    "        new_input_ids = torch.cat([input_ids, token_id.unsqueeze(0).unsqueeze(0)], dim=-1)\n",
    "\n",
    "        # Add node and edge to graph\n",
    "        token = tokenizer.decode(token_id, skip_special_tokens=True)\n",
    "\n",
    "        # Recursive call\n",
    "        beam_search(new_input_ids, length-1, beams, sampling, 1)\n",
    "\n",
    "# Parameters\n",
    "length = 5\n",
    "beams = 2\n",
    "\n",
    "# Start generating text\n",
    "beam_search(input_ids, length, beams, 'greedy', 1)\n"
   ]
  }
 ],
 "metadata": {
  "kernelspec": {
   "display_name": "llm",
   "language": "python",
   "name": "python3"
  },
  "language_info": {
   "codemirror_mode": {
    "name": "ipython",
    "version": 3
   },
   "file_extension": ".py",
   "mimetype": "text/x-python",
   "name": "python",
   "nbconvert_exporter": "python",
   "pygments_lexer": "ipython3",
   "version": "3.12.11"
  }
 },
 "nbformat": 4,
 "nbformat_minor": 5
}
